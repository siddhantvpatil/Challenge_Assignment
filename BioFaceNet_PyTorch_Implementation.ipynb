{
  "nbformat": 4,
  "nbformat_minor": 0,
  "metadata": {
    "colab": {
      "name": "BioFaceNet_PyTorch_Implementation.ipynb",
      "provenance": [],
      "collapsed_sections": []
    },
    "kernelspec": {
      "name": "python3",
      "display_name": "Python 3"
    },
    "language_info": {
      "name": "python"
    },
    "accelerator": "GPU"
  },
  "cells": [
    {
      "cell_type": "markdown",
      "metadata": {
        "id": "1qijqo9g4TNB"
      },
      "source": [
        "### Imports"
      ]
    },
    {
      "cell_type": "code",
      "metadata": {
        "id": "W-5DQFYw4RM5",
        "colab": {
          "base_uri": "https://localhost:8080/"
        },
        "outputId": "fa426b65-07a3-455c-809f-50ab4ffe0760"
      },
      "source": [
        "# Mount drive\n",
        "from google.colab import drive\n",
        "drive.mount('/content/gdrive')\n",
        "\n",
        "# Make required imports\n",
        "import os\n",
        "import numpy as np\n",
        "import pandas as pd\n",
        "\n",
        "from PIL import Image\n",
        "from matplotlib import pyplot as plt\n",
        "from sklearn.decomposition import PCA\n",
        "from scipy.io import loadmat\n",
        "\n",
        "import torch\n",
        "import torch.nn as nn\n",
        "import torch.nn.functional as F\n",
        "from torch import cat, reshape, sigmoid\n",
        "import torchvision.utils as vutils\n",
        "import torchvision.transforms as transforms\n",
        "from torchvision.datasets import ImageFolder\n",
        "from torch.utils.data import Dataset, DataLoader "
      ],
      "execution_count": 1,
      "outputs": [
        {
          "output_type": "stream",
          "text": [
            "Mounted at /content/gdrive\n"
          ],
          "name": "stdout"
        }
      ]
    },
    {
      "cell_type": "markdown",
      "metadata": {
        "id": "HyRaj2_pCz3y"
      },
      "source": [
        "### GPU check"
      ]
    },
    {
      "cell_type": "code",
      "metadata": {
        "colab": {
          "base_uri": "https://localhost:8080/"
        },
        "id": "8aN0yJarCzBl",
        "outputId": "b35c8f0e-044e-479d-fe00-040ba4802847"
      },
      "source": [
        "if torch.cuda.is_available() is True:\n",
        "    print(\"Current device: {}\".format(torch.cuda.current_device()))\n",
        "    print(\"Cuda device: {}\".format(torch.cuda.device(0)))\n",
        "    print(\"Device count: {}\".format(torch.cuda.device_count()))\n",
        "    print(\"Device name: {}\".format(torch.cuda.get_device_name(0)))\n",
        "else:\n",
        "    print(\"GPU not being used. Please connect GPU!\")"
      ],
      "execution_count": 2,
      "outputs": [
        {
          "output_type": "stream",
          "text": [
            "Current device: 0\n",
            "Cuda device: <torch.cuda.device object at 0x7fb4b1c67e90>\n",
            "Device count: 1\n",
            "Device name: Tesla T4\n"
          ],
          "name": "stdout"
        }
      ]
    },
    {
      "cell_type": "markdown",
      "metadata": {
        "id": "ofCi3931Gf09"
      },
      "source": [
        "### Python Code for CameraSensitivityPCA.m"
      ]
    },
    {
      "cell_type": "code",
      "metadata": {
        "id": "eU5NlzNhyD3M"
      },
      "source": [
        "def CameraSensitivityPCA(rgbCMF):\n",
        "    X = np.zeros((99,28))\n",
        "    Y = np.zeros((99,28))\n",
        "\n",
        "    redS = rgbCMF[0,0]\n",
        "    greenS = rgbCMF[0,1]\n",
        "    blueS = rgbCMF[0,2]\n",
        "    \n",
        "    for i in range(0,28):\n",
        "        Y[0:33, i] = np.divide(redS[:, i], np.sum(redS[:, i]))\n",
        "        Y[33:66, i] = np.divide(greenS[:, i], np.sum(greenS[:, i]))\n",
        "        Y[66:99, i] = np.divide(blueS[:, i], np.sum(blueS[:, i]))\n",
        "    \n",
        "    \n",
        "    pca = PCA(n_components=2)\n",
        "    # coeff\n",
        "    PC = pca.fit_transform(Y)\n",
        "    # latent\n",
        "    EV = pca.components_\n",
        "    # mu\n",
        "    mu = np.mean(Y, axis = 1, keepdims=True)\n",
        "\n",
        "    PC = torch.from_numpy(np.dot(PC[:, 0:2], np.diag(np.sqrt(EV[:, 0]))))  \n",
        "    mu = torch.from_numpy(mu)\n",
        "    EV = torch.from_numpy(EV[:, 0:1])\n",
        "\n",
        "    return mu, PC, EV "
      ],
      "execution_count": 3,
      "outputs": []
    },
    {
      "cell_type": "markdown",
      "metadata": {
        "id": "THab-ez0B-aw"
      },
      "source": [
        "### Python Code for setup.m"
      ]
    },
    {
      "cell_type": "code",
      "metadata": {
        "id": "UlL1_KD7CZxv"
      },
      "source": [
        "\"\"\" This script configures the necessary library, load and prepare the data used in the experimentserver = true; \"\"\"\n",
        "\n",
        "folder_path = '/content/gdrive/MyDrive/Colab Notebooks/VMG/utils'\n",
        "\n",
        "file_name = 'illF.mat'\n",
        "annots = loadmat('{}/{}'.format(folder_path, file_name))\n",
        "illF = torch.from_numpy(annots['illF'])\n",
        "\n",
        "file_name = 'rgbCMF.mat'\n",
        "annots = loadmat('{}/{}'.format(folder_path, file_name))\n",
        "rgbCMF = annots['rgbCMF']\n",
        "\n",
        "file_name = 'illumA.mat'\n",
        "annots = loadmat('{}/{}'.format(folder_path, file_name))\n",
        "illumA = torch.from_numpy(annots['illumA'])\n",
        "\n",
        "file_name = 'illumDmeasured.mat'\n",
        "annots = loadmat('{}/{}'.format(folder_path, file_name))\n",
        "illumDmeasured = torch.from_numpy(annots['illumDmeasured'])\n",
        "\n",
        "file_name = 'Newskincolour.mat'\n",
        "annots = loadmat('{}/{}'.format(folder_path, file_name))\n",
        "Newskincolour = torch.from_numpy(annots['Newskincolour'])\n",
        "\n",
        "file_name = 'Tmatrix.mat'\n",
        "annots = loadmat('{}/{}'.format(folder_path, file_name))\n",
        "Tmatrix = torch.from_numpy(annots['Tmatrix'])\n",
        "\n",
        "nimages = 50765\n",
        "batchSize= 64\n",
        "\n",
        "# PCA model for camera sensitivities\n",
        "[mu, PC, EVpca] = CameraSensitivityPCA(rgbCMF)\n",
        "\n",
        "# predicted vectors sizes\n",
        "LightVectorSize = 15  # 15 paramters of light model\n",
        "\n",
        "wavelength = 33\n",
        "bSize = 2  # 2 parameters of camera model\n",
        "\n",
        "# normalise illuminations\n",
        "illF           = torch.reshape(illF,(1, 1, 33, 12))\n",
        "illumDmeasured = illumDmeasured.T\n",
        "illumDmeasured = torch.reshape(illumDmeasured, (1, 1, 33, 22))\n",
        "# A\n",
        "illumA         = torch.div(illumA, torch.sum(illumA[:]))\n",
        "# D\n",
        "illumDNorm = torch.zeros((1, 1, 33, 22))\n",
        "for i in range(0,22):\n",
        "    illumDNorm[0, 0, :, i] = torch.div(illumDmeasured[0, 0, :, i], torch.sum(illumDmeasured[0, 0, :, i]))\n",
        "  \n",
        "# F\n",
        "illumFNorm = torch.zeros((1, 1, 33, 12))\n",
        "for i in range(0,12):\n",
        "    illumFNorm[0, 0, :, i] = torch.div(illF[0, 0, :, i], torch.sum(illF[0, 0, :, i]))\n",
        " "
      ],
      "execution_count": 4,
      "outputs": []
    },
    {
      "cell_type": "markdown",
      "metadata": {
        "id": "nmeWg5864JMj"
      },
      "source": [
        "### Python Code for CNN.m"
      ]
    },
    {
      "cell_type": "code",
      "metadata": {
        "id": "roajmtWFDRMo"
      },
      "source": [
        "class CNN_Net(nn.Module):\n",
        "    def __init__(self, dims):\n",
        "        super().__init__()\n",
        "        self.dims = dims\n",
        "\n",
        "        # Add layers\n",
        "        self.CNN_Net_list = []\n",
        "        # FC 1\n",
        "        self.CNN_Net_list.append(nn.Conv2d(in_channels=512,\n",
        "                                out_channels=512,\n",
        "                                kernel_size=(4, 4),\n",
        "                                stride=(1, 1),\n",
        "                                padding=0))\n",
        "\n",
        "        self.CNN_Net_list.append(nn.BatchNorm2d(num_features = 512))\n",
        "        self.CNN_Net_list.append(nn.ReLU())\n",
        "        # FC2\n",
        "        self.CNN_Net_list.append(nn.Conv2d(in_channels=512,\n",
        "                                out_channels=512,\n",
        "                                kernel_size=(1, 1),\n",
        "                                stride=(1, 1),\n",
        "                                padding=0))\n",
        "        self.CNN_Net_list.append(nn.BatchNorm2d(num_features = 512))\n",
        "        self.CNN_Net_list.append(nn.ReLU())\n",
        "        # FC3\n",
        "        self.CNN_Net_list.append(nn.Conv2d(in_channels=512,\n",
        "                                out_channels=self.dims,\n",
        "                                kernel_size=(1, 1),\n",
        "                                stride=(1, 1),\n",
        "                                padding=0))\n",
        "        # Add layers in ModuleList\n",
        "        self.layers = nn.ModuleList(self.CNN_Net_list)\n",
        "    def forward(self, x):\n",
        "        for layer in self.layers:\n",
        "            x = layer(x)\n",
        "        return x        "
      ],
      "execution_count": 5,
      "outputs": []
    },
    {
      "cell_type": "code",
      "metadata": {
        "id": "tuPyEUIgRf5o"
      },
      "source": [
        "def CNN(images,nfilters,nclass,LightVectorSize,bSize):\n",
        "    \"\"\"\n",
        "    Inputs:                                          \n",
        "        images           : input to CNN\n",
        "        nfilters         : vector of filter sizes\n",
        "        nclass           : number of output maps\n",
        "        lightVectorLSize : 15\n",
        "        bsize            : 2\n",
        "    Output:\n",
        "        weightA    : 1 x 1 x 1 x B\n",
        "        weightD    : 1 x 1 x 1 x B\n",
        "        CCT        : 1 x 1 x 1 x B\n",
        "        Fweights   : 1 x 1 x 12 x B\n",
        "        b          : 2 x nbatch\n",
        "    \"\"\"\n",
        "    #-------------------------------- CNN -------------------------------------\n",
        "    print('Process: fcn_multipleDecoders ...')\n",
        "    [ x,y ] = fcn_multipleDecoders(nfilters, images, nclass, True)\n",
        "    print('Done ...')\n",
        "    #---------------------  Fully connected layers --------------------------\n",
        "    print('Process: CNN_Net ...')\n",
        "    dims = LightVectorSize + bSize\n",
        "    cnn_net = CNN_Net(dims)\n",
        "    prediction = cnn_net.forward(y)\n",
        "    print('Done ...')\n",
        "    #--------------------- Illumination parameters --------------------------\n",
        "    print('Process: Getting parameters and predicted maps ...')\n",
        "    lightingparameters = prediction[:, 0:LightVectorSize, :, :]\n",
        "    #------------------------ Camera parameters -----------------------------\n",
        "    nbatch = prediction.shape[0]\n",
        "    b = reshape(prediction[:, LightVectorSize:LightVectorSize+bSize, :, :],(bSize, nbatch)) \n",
        "    \n",
        "    #------------------------- Predicted Maps -------------------------------\n",
        "    fmel     = x[:,0:1,:,:]\n",
        "    fblood   = x[:,1:2,:,:]\n",
        "    Shading  = x[:,2:3,:,:]\n",
        "    specmask = x[:,3:4,:,:]\n",
        "    print('Done ...')\n",
        "    return [lightingparameters, b, fmel, fblood, Shading, specmask]"
      ],
      "execution_count": 6,
      "outputs": []
    },
    {
      "cell_type": "markdown",
      "metadata": {
        "id": "DPrVEJ5oklyC"
      },
      "source": [
        "### Python Code for fcn_multipleDecoders.m"
      ]
    },
    {
      "cell_type": "markdown",
      "metadata": {
        "id": "Olh5PJfoAN5f"
      },
      "source": [
        "#### FCN_Encoder"
      ]
    },
    {
      "cell_type": "code",
      "metadata": {
        "id": "C_kUw5zNRlba"
      },
      "source": [
        "class FCN_Encoder(nn.Module):\n",
        "    def __init__(self, nlayers, nfilters, doubleconv):\n",
        "        super().__init__()\n",
        "        self.nlayers = nlayers\n",
        "        self.nfilters = nfilters\n",
        "        self.doubleconv = doubleconv\n",
        "\n",
        "    def get_FCN_Encoder_Net_list_1(self, i):\n",
        "        # Add layers in list 1\n",
        "        FCN_Encoder_Net_list_1 = []\n",
        "        if i==0:\n",
        "            FCN_Encoder_Net_list_1.append(nn.Conv2d(in_channels=3,\n",
        "                      out_channels=self.nfilters[i],\n",
        "                      kernel_size=(3, 3),\n",
        "                      stride=1,\n",
        "                      padding=1))\n",
        "        else:\n",
        "            FCN_Encoder_Net_list_1.append(nn.Conv2d(in_channels=self.nfilters[i-1],\n",
        "                      out_channels=self.nfilters[i],\n",
        "                      kernel_size=(3, 3),\n",
        "                      stride=1,\n",
        "                      padding=1))       \n",
        "        FCN_Encoder_Net_list_1.append(nn.BatchNorm2d(num_features = self.nfilters[i]))\n",
        "\n",
        "        if self.doubleconv == True:\n",
        "            FCN_Encoder_Net_list_1.append(nn.ReLU())\n",
        "            FCN_Encoder_Net_list_1.append(nn.Conv2d(in_channels=nfilters[i],\n",
        "                      out_channels=nfilters[i],\n",
        "                      kernel_size=(3, 3),\n",
        "                      stride=1,\n",
        "                      padding=1))\n",
        "            FCN_Encoder_Net_list_1.append(nn.BatchNorm2d(num_features = nfilters[i]))\n",
        "            FCN_Encoder_Net_list_1.append(nn.ReLU())\n",
        "            FCN_Encoder_Net_list_1.append(nn.Conv2d(in_channels=nfilters[i],\n",
        "                      out_channels=nfilters[i],\n",
        "                      kernel_size=(3, 3),\n",
        "                      stride=1,\n",
        "                      padding=1))\n",
        "            FCN_Encoder_Net_list_1.append(nn.BatchNorm2d(num_features = nfilters[i]))  \n",
        "                 \n",
        "        # Add layers in ModuleList\n",
        "        return nn.ModuleList(FCN_Encoder_Net_list_1)\n",
        "\n",
        "    def forward(self, x):\n",
        "        \"\"\" Forward layers \"\"\"\n",
        "        x_skip = [0 for m in range(self.nlayers-1)]\n",
        "        # Loop over nlayers\n",
        "        for i in range(self.nlayers-1):\n",
        "            # Loop over layers\n",
        "            for layer_no, layer in enumerate(self.get_FCN_Encoder_Net_list_1(i)):\n",
        "                x = layer(x)\n",
        "            x_skip[i] = nn.ReLU()(x)\n",
        "            x = nn.MaxPool2d(kernel_size = 2, stride = 2, dilation=1)(x_skip[i])\n",
        "            \n",
        "        x = nn.Conv2d(in_channels=self.nfilters[self.nlayers-2],\n",
        "                    out_channels=self.nfilters[self.nlayers-1],\n",
        "                    kernel_size=(3, 3),\n",
        "                    stride=1,\n",
        "                    padding=1)(x)\n",
        "        x = nn.BatchNorm2d(num_features = self.nfilters[self.nlayers-1])(x)\n",
        "        y = F.relu(x)\n",
        "\n",
        "        # If doubleconv is True\n",
        "        if self.doubleconv == True:\n",
        "            x = nn.Conv2d(in_channels=self.nfilters[self.nlayers-1],\n",
        "                      out_channels=self.nfilters[self.nlayers-1],\n",
        "                      kernel_size=(3, 3),\n",
        "                      stride=1,\n",
        "                      padding=1)(y)\n",
        "            x = nn.BatchNorm2d(num_features = self.nfilters[self.nlayers-1])(x)\n",
        "            y = F.relu(x)\n",
        "\n",
        "            x = nn.Conv2d(in_channels=self.nfilters[self.nlayers-1],\n",
        "                      out_channels=self.nfilters[self.nlayers-1],\n",
        "                      kernel_size=(3, 3),\n",
        "                      stride=1,\n",
        "                      padding=1)(y)\n",
        "            x = nn.BatchNorm2d(num_features = self.nfilters[self.nlayers-1])(x)\n",
        "            y = F.relu(x)\n",
        "        return y, x_skip "
      ],
      "execution_count": 7,
      "outputs": []
    },
    {
      "cell_type": "markdown",
      "metadata": {
        "id": "mh5GaIjZm3Lu"
      },
      "source": [
        "#### FCN Decoder"
      ]
    },
    {
      "cell_type": "code",
      "metadata": {
        "id": "aXPE8KCSm2eZ"
      },
      "source": [
        "class FCN_Decoder(nn.Module):\n",
        "    def __init__(self, nclass, nlayers, nfilters, doubleconv, x_skip):\n",
        "        super().__init__()\n",
        "        self.nclass = nclass\n",
        "        self.nlayers = nlayers\n",
        "        self.nfilters = nfilters\n",
        "        self.doubleconv = doubleconv\n",
        "        self.x_skip = x_skip\n",
        "\n",
        "    def forward(self, y):\n",
        "        \"\"\" Forward layers \"\"\"\n",
        "        for c in range(self.nclass):\n",
        "            for i in range(self.nlayers-2,-1,-1): # Ensures starts with nlayers-1, goes till 0 and decreases by -1\n",
        "                if i==self.nlayers-2:\n",
        "                    x = nn.Upsample(scale_factor=2, mode='bilinear', align_corners = False)(y)\n",
        "                else:\n",
        "                    x = nn.Upsample(scale_factor=2, mode='bilinear', align_corners = False)(x)\n",
        "\n",
        "                # Concat along channel axis\n",
        "                x = cat((x,self.x_skip[i]),1)\n",
        "                x = nn.Conv2d(in_channels=self.nfilters[i]+self.nfilters[i+1],\n",
        "                      out_channels=self.nfilters[i],\n",
        "                      kernel_size=(3, 3),\n",
        "                      stride=1,\n",
        "                      padding=1)(x)\n",
        "                x = nn.BatchNorm2d(num_features = self.nfilters[i])(x)\n",
        "                x = nn.ReLU()(x)\n",
        "                \n",
        "                if self.doubleconv == True:\n",
        "                    x = nn.Conv2d(in_channels=self.nfilters[i],\n",
        "                      out_channels=self.nfilters[i],\n",
        "                      kernel_size=(3, 3),\n",
        "                      stride=1,\n",
        "                      padding=1)(x)\n",
        "                    x = nn.BatchNorm2d(num_features = self.nfilters[i])(x)\n",
        "                    x = nn.ReLU()(x)\n",
        "        \n",
        "                    x = nn.Conv2d(in_channels=self.nfilters[i],\n",
        "                      out_channels=self.nfilters[i],\n",
        "                      kernel_size=(3, 3),\n",
        "                      stride=1,\n",
        "                      padding=1)(x)\n",
        "                    x = nn.BatchNorm2d(num_features = self.nfilters[i])(x)\n",
        "                    x = nn.ReLU()(x)\n",
        "\n",
        "            # Final predictions\n",
        "            x = nn.Conv2d(in_channels=self.nfilters[0],\n",
        "                      out_channels=1,\n",
        "                      kernel_size=(3, 3),\n",
        "                      stride=1,\n",
        "                      padding=1)(x)\n",
        "\n",
        "            if c==0:\n",
        "                z = x\n",
        "            else:\n",
        "                z = cat((z,x),1)\n",
        "\n",
        "        x=z\n",
        "        return x "
      ],
      "execution_count": 8,
      "outputs": []
    },
    {
      "cell_type": "markdown",
      "metadata": {
        "id": "vb-fVoVNAWpZ"
      },
      "source": [
        "#### main call fcn_multipleDecoders"
      ]
    },
    {
      "cell_type": "code",
      "metadata": {
        "id": "pTOxYndckJ2T"
      },
      "source": [
        "def fcn_multipleDecoders(nfilters, x, nclass, doubleconv):\n",
        "    \"\"\"\n",
        "    FCN Build an autonn fully convolutional network for image to image tasks\n",
        "    Includes skip connections from each encoder layer to corresponding\n",
        "    decoder layer\n",
        "    Inputs:\n",
        "        nfilters - vector of filter sizes, 1:length-1 are used in the\n",
        "        contractive part of the network, the final value is the number of\n",
        "        filters applied at the lowest resolution before upsampling begins\n",
        "        x - input feature map as autonn layer\n",
        "        nclass - number of channels in output feature map\n",
        "        E.g. nfilters = [32 32 64 96 128 256]\n",
        "    Outputs:\n",
        "        x - image to image prediction\n",
        "        y - output of lowest resolution - can be fed into fully connected\n",
        "        layers\n",
        "    \"\"\"\n",
        "    nlayers = len(nfilters)\n",
        "    \n",
        "    # Encoder\n",
        "    fcn_encoder = FCN_Encoder(nlayers, nfilters, doubleconv)\n",
        "    y, x_skip  = fcn_encoder.forward(x)\n",
        "    \n",
        "    # Decoders\n",
        "    fcn_decoder = FCN_Decoder(nclass, nlayers, nfilters, doubleconv, x_skip)\n",
        "    x = fcn_decoder.forward(y)\n",
        "\n",
        "    return x, y"
      ],
      "execution_count": 9,
      "outputs": []
    },
    {
      "cell_type": "markdown",
      "metadata": {
        "id": "mA7FyLSHrvmi"
      },
      "source": [
        "### Python Code for scalingNet.m"
      ]
    },
    {
      "cell_type": "code",
      "metadata": {
        "id": "dStL-03-rvAy"
      },
      "source": [
        "def scalingNet(lightingparameters,b,fmel,fblood,Shading,specmask,bSize):\n",
        "    \"\"\" \n",
        "    Inputs/Output:\n",
        "        weightA  : 1 x 1 x 1 x B\n",
        "        weightD  : 1 x 1 x 1 x B\n",
        "        CCT      : 1 x 1 x 1 x B\n",
        "        Fweights : 1 x 1 x 12 x B\n",
        "        b        : 1 x 1 x 2 x B\n",
        "        fmel     : 224 x 224 x 1 x B\n",
        "        fblood   : 224 x 224 x 1 x B\n",
        "        Shading  : 224 x 224 x 1 x B\n",
        "        specmask : 224 x 224 x 1 x B\n",
        "        bSize    : 2\n",
        "    Output:\n",
        "        Scaled inputs\n",
        "    \"\"\"\n",
        "    nbatch = lightingparameters.shape[0]\n",
        "    lightingweights = nn.Softmax(dim=1)(lightingparameters[:, 0:14, :, :])\n",
        "    weightA  = lightingweights[:, 0:1, :, :]\n",
        "    weightD  = lightingweights[:, 1:2, :, :]\n",
        "    Fweights = lightingweights[:, 2:14, :, :]\n",
        "    CCT      =  lightingparameters[:, 14:, :, :] \n",
        "\n",
        "    CCT      = torch.div((22 - 1), (1 + torch.exp(-CCT))) + 1 \n",
        "    #\n",
        "    b = torch.mul(sigmoid(b), 6) - 3  \n",
        "    BGrid = torch.reshape(b, (nbatch, bSize, 1, 1)) #  2 x 1 x 1 x B\n",
        "    BGrid = torch.div(BGrid, 3)     # [ -1 , +1 ] \n",
        "    #\n",
        "    fmel = torch.mul(sigmoid(fmel),2) - 1\n",
        "    fblood = torch.mul(sigmoid(fblood), 2) - 1\n",
        "    Shading = torch.exp(Shading)  \n",
        "    specmask= torch.exp(specmask)   \n",
        "    \n",
        "    return weightA, weightD, CCT, Fweights, b, BGrid, fmel, fblood, Shading, specmask"
      ],
      "execution_count": 10,
      "outputs": []
    },
    {
      "cell_type": "markdown",
      "metadata": {
        "id": "l5X9yVEJpCXp"
      },
      "source": [
        "### Python Code for illuminationModel.m"
      ]
    },
    {
      "cell_type": "code",
      "metadata": {
        "id": "MlFwIUPkrAkR"
      },
      "source": [
        "def illuminationModel(weightA,weightD,Fweights,CCT,illumA,illumDNorm,illumFNorm):\n",
        "    \"\"\"\n",
        "    Inputs:\n",
        "        weightA    : 1 x 1 x 1 x B\n",
        "        weightD    : 1 x 1 x 1 x B\n",
        "        CCT        : 1 x 1 x 1 x B\n",
        "        Ftype      : 1 x 1 x 12 x B\n",
        "        illumA     : 1 x 1 x 33 x B\n",
        "        illumDNorm : 1 x 1 x 33 x 22\n",
        "        illumFNorm : 1 x 1 x 33 x 12\n",
        "    Output:\n",
        "        e          : 1 x 1 x 33 x B\n",
        "    \"\"\"\n",
        "    #------------------  create the illumination model ----------------------\n",
        "    # illumination A:\n",
        "    illumA = torch.unsqueeze(illumA, 3)\n",
        "    illumA = illumA.repeat(1, 1, 1, 64)\n",
        "    illumA = illumA.permute(3, 2, 0, 1)\n",
        "    illuminantA = torch.mul(illumA, weightA)\n",
        "\n",
        "    # illumination D: \n",
        "    illuminantD = torch.mul(CCT, weightD)\n",
        "\n",
        "    # illumination F:\n",
        "    illumFNorm = illumFNorm.permute(0, 2, 3, 1) # permute to 1 x 33 x 12 x 1\n",
        "    Fweights = Fweights.permute(2, 3, 1, 0)\n",
        "    illuminantF = torch.mul(illumFNorm, Fweights) # 1 x 33 x 12 x B\n",
        "    illuminantF = torch.sum(illuminantF,2, keepdim=True); # 1 x 33 x 1 x B\n",
        "    illuminantF = illuminantF.permute(0, 2, 1, 3)\n",
        "    illuminantF = illuminantF.permute(3, 2, 0, 1)\n",
        "\n",
        "    e = illuminantA + illuminantD + illuminantF\n",
        "    esums = torch.sum(e, 2, keepdim=True)\n",
        "    e = torch.divide(e, esums)\n",
        "    \n",
        "    return e"
      ],
      "execution_count": 11,
      "outputs": []
    },
    {
      "cell_type": "markdown",
      "metadata": {
        "id": "Oabe05yE07ZW"
      },
      "source": [
        "### Python Code for cameraModel.m"
      ]
    },
    {
      "cell_type": "code",
      "metadata": {
        "id": "-4anp2_H1UXl"
      },
      "source": [
        "def cameraModel(mu,PC,b,wavelength):\n",
        "    \"\"\"\n",
        "    Inputs:\n",
        "        mu         : 1 x 1 x 1 x B\n",
        "        PC         : 1 x 1 x 1 x B\n",
        "        b          : 1 x 1 x 2 x B\n",
        "        wavelength : 33\n",
        "\n",
        "    Outputs:\n",
        "        Sr,Sg,Sb   : 1 x 1 x 33 x B\n",
        "    \"\"\"\n",
        "    nbatch = b.shape[1]\n",
        "\n",
        "    # PCA model\n",
        "    S = torch.mm(PC.float(), b.float()) + mu # % 99 x nbatch\n",
        "    S =  nn.ReLU()(S)   \n",
        "    \n",
        "    # S.name='S'; \n",
        "    # Clamp negative values to zero: positive 99 x nbatch\n",
        "    # split up S into Sr, Sg, Sb \n",
        "    Sr = torch.reshape(S[0:wavelength,:], (1, 1, wavelength, nbatch))                  \n",
        "    Sg = torch.reshape(S[wavelength:wavelength*2,:], (1, 1, wavelength, nbatch))     \n",
        "    Sb = torch.reshape(S[(wavelength*2):wavelength*3,:], (1, 1, wavelength, nbatch))\n",
        "\n",
        "    Sr = Sr.permute(3, 2, 0, 1)\n",
        "    Sg = Sg.permute(3, 2, 0, 1)\n",
        "    Sb = Sb.permute(3, 2, 0, 1)\n",
        "    \n",
        "    return Sr, Sg, Sb "
      ],
      "execution_count": 12,
      "outputs": []
    },
    {
      "cell_type": "markdown",
      "metadata": {
        "id": "d04c01W22jvt"
      },
      "source": [
        "### Python Code for computelightcolour.py"
      ]
    },
    {
      "cell_type": "code",
      "metadata": {
        "id": "QdlUCdNt2vZY"
      },
      "source": [
        "def computelightcolour(e,Sr,Sg,Sb):\n",
        "    \"\"\"\n",
        "    Function to compute light colour\n",
        "    Inputs:\n",
        "        Sr,Sg,Sb         : 1 x 1 x 33 x B\n",
        "        e                : 1 x 1 x 33 x B\n",
        "    Output:\n",
        "        lightcolour      : 1 x 1 x 3 x B\n",
        "    \"\"\"\n",
        "    lightcolour = torch.stack([torch.sum(torch.mul(Sr, e),1), \n",
        "                   torch.sum(torch.mul(Sg, e),1), \n",
        "                   torch.sum(torch.mul(Sb, e),1)], dim = 0)\n",
        "    \n",
        "    \n",
        "    lightcolour = torch.reshape(lightcolour, (lightcolour.shape[1], 3, 1, 1))\n",
        "\n",
        "    return lightcolour"
      ],
      "execution_count": 13,
      "outputs": []
    },
    {
      "cell_type": "markdown",
      "metadata": {
        "id": "8Z4vVNkH_POH"
      },
      "source": [
        "### Python Code for computeSpecularities.m"
      ]
    },
    {
      "cell_type": "code",
      "metadata": {
        "id": "zUrhmuQo_jbY"
      },
      "source": [
        "def computeSpecularities(specmask, lightcolour):\n",
        "    \"\"\" \n",
        "    Function to compute Specularities\n",
        "    Inputs:\n",
        "        specmask          : H x W x 1 x B\n",
        "        lightcolour       : 1 x 1 x 3 x B\n",
        "    Output:\n",
        "        Specularities     : H x W x 1 x B\n",
        "    \"\"\"\n",
        "    # Compute element-wise product\n",
        "    Specularities = torch.mul(specmask, lightcolour) \n",
        "    return Specularities "
      ],
      "execution_count": 14,
      "outputs": []
    },
    {
      "cell_type": "markdown",
      "metadata": {
        "id": "ozw2E4OJG-rW"
      },
      "source": [
        "### Python Code for BiotoSpectralRef.m"
      ]
    },
    {
      "cell_type": "code",
      "metadata": {
        "id": "pJFXO3lqHYY1"
      },
      "source": [
        "def BiotoSpectralRef(fmel,fblood,Newskincolour):\n",
        "    \"\"\"\n",
        "    Inputs:\n",
        "        fmel             : H x W x 1 x B\n",
        "        fblood           : H x W x 1 x B\n",
        "        Newskincolour    : 256 x 256 x 33 x B\n",
        "    Output:\n",
        "        R_total          : H x W x 33 x B\n",
        "    \"\"\"\n",
        "    BiophysicalMaps = torch.cat((fblood,fmel),1)\n",
        "    BiophysicalMaps = BiophysicalMaps.permute(0, 2, 3, 1) # 2 x H x W x B\n",
        "    \n",
        "    Newskincolour = torch.unsqueeze(Newskincolour, 3)\n",
        "    Newskincolour = Newskincolour.repeat(1, 1, 1, BiophysicalMaps.shape[0])\n",
        "    Newskincolour = Newskincolour.permute(3, 2, 0, 1)\n",
        "    \n",
        "    R_total = F.grid_sample(Newskincolour,BiophysicalMaps, align_corners=False)\n",
        "    \n",
        "    return R_total "
      ],
      "execution_count": 15,
      "outputs": []
    },
    {
      "cell_type": "markdown",
      "metadata": {
        "id": "MDA1uv45AYJ9"
      },
      "source": [
        "### Python Code for ImageFormation.m"
      ]
    },
    {
      "cell_type": "code",
      "metadata": {
        "id": "rv4rJXICAWuW"
      },
      "source": [
        "def ImageFormation (R_total, Sr,Sg,Sb,e,Specularities,Shading):\n",
        "    \"\"\"\n",
        "    Inputs:\n",
        "        R_total       : H X W X 33 X nbatch\n",
        "        Shading       : H X W X 1 X nbatch\n",
        "        Specularities : H X W X 1 X nbatch\n",
        "        Sr,Sg,Sb      : 1 x 1 x 33 x nbatch\n",
        "        e             : 1 x 1 x 33 x nbatch\n",
        "    Output:\n",
        "        rgbim : H x W x 1 x nbatch\n",
        "    \"\"\"\n",
        "    #---------------------------Image Formation -------------------------------\n",
        "    spectraRef = torch.mul(R_total, e)  \n",
        "    \n",
        "    #--------------------------------------------------------------------------\n",
        "    rChannel = torch.sum(torch.mul(spectraRef, Sr), 1, keepdim = True)  \n",
        "    gChannel = torch.sum(torch.mul(spectraRef, Sg), 1, keepdim = True)  \n",
        "    bChannel = torch.sum(torch.mul(spectraRef, Sb), 1, keepdim = True)  \n",
        "    diffuseAlbedo = torch.cat((rChannel,gChannel,bChannel), 1)  # H x W x 3 x nbatch\n",
        "\n",
        "    #---------------------------Shaded Diffuse --------------------------------\n",
        "    ShadedDiffuse = torch.mul(diffuseAlbedo, Shading)  #ShadedDiffuse.name ='ShadedDiffuse'\n",
        "    \n",
        "    #---------------------------Raw appearance --------------------------------\n",
        "    rawAppearance = ShadedDiffuse + Specularities\n",
        "    \n",
        "    return rawAppearance, diffuseAlbedo"
      ],
      "execution_count": 16,
      "outputs": []
    },
    {
      "cell_type": "markdown",
      "metadata": {
        "id": "b-GwdfNDEEnG"
      },
      "source": [
        "### Python Code for WhiteBalance.m"
      ]
    },
    {
      "cell_type": "code",
      "metadata": {
        "id": "9YsdzbsjEYtd"
      },
      "source": [
        "def WhiteBalance(rawAppearance,lightcolour):\n",
        "    \"\"\"\n",
        "    % Inputs:\n",
        "    %     rawAppearance    : H x W x 3 x B\n",
        "    %     lightcolour      : 1   x 1   x 3 x B \n",
        "    %  Output:\n",
        "    %     ImwhiteBalanced  : H x W x 3 x B\n",
        "    \"\"\"\n",
        "    #--------------------------- White Balance ------------------------------\n",
        "    WBrCh = torch.div(rawAppearance[:, 0:1, :, :], lightcolour[:, 0:1, :, :])  \n",
        "    WBgCh = torch.div(rawAppearance[:, 1:2, :, :], lightcolour[:, 1:2, :, :])\n",
        "    WBbCh = torch.div(rawAppearance[:, 2:3, :, :], lightcolour[:, 2:3, :, :])\n",
        "    \n",
        "    ImwhiteBalanced = torch.cat((WBrCh,WBgCh,WBbCh),1)\n",
        "    return ImwhiteBalanced"
      ],
      "execution_count": 17,
      "outputs": []
    },
    {
      "cell_type": "markdown",
      "metadata": {
        "id": "6eCDUqA8Q87m"
      },
      "source": [
        "### Python Code for findT.m"
      ]
    },
    {
      "cell_type": "code",
      "metadata": {
        "id": "NfzTLh09RN7Y"
      },
      "source": [
        "def findT(Tmatrix,BGrid):\n",
        "    \"\"\"\n",
        "    Inputs:\n",
        "        Tmatrix          : 128 x 128 x 9 \n",
        "        BGrid            : 2 x B\n",
        "    Output:\n",
        "        T_RAW2RGB        : 1 x 1 x 9 x B\n",
        "    \"\"\"\n",
        "    Tmatrix = torch.unsqueeze(Tmatrix, 3)\n",
        "    Tmatrix = Tmatrix.repeat(1, 1, 1, 64)\n",
        "    Tmatrix = Tmatrix.permute(3, 2, 0 , 1)\n",
        "    \n",
        "    BGrid = BGrid.permute(0, 2, 3, 1)\n",
        "    \n",
        "    T_RAW2XYZ = F.grid_sample(Tmatrix,BGrid, align_corners=False)\n",
        "    \n",
        "    return T_RAW2XYZ"
      ],
      "execution_count": 18,
      "outputs": []
    },
    {
      "cell_type": "markdown",
      "metadata": {
        "id": "Lo0ioE1VFYPc"
      },
      "source": [
        "### Python Code for fromRawTosRGB.m"
      ]
    },
    {
      "cell_type": "code",
      "metadata": {
        "id": "nMZdUYamFdIU"
      },
      "source": [
        "def fromRawTosRGB(imWB, T_RAW2XYZ):\n",
        "    \"\"\"\n",
        "    % Inputs:\n",
        "    %     imWB: H X W X 3 X B\n",
        "    %     Tmatrix :  128 X 128 X 9 \n",
        "    % Output:\n",
        "    %     sRGBim : H x W x 3 x B\n",
        "    \"\"\"\n",
        "    Ix = torch.mul(T_RAW2XYZ[:, 0:1, 0, 0], imWB[:, 0:1, :, :]) + torch.mul(T_RAW2XYZ[:, 3:4, 0, 0], imWB[:, 1:2, :, :]) + torch.mul(T_RAW2XYZ[:, 6:7, 0, 0], imWB[:, 2:3, :, :]) \n",
        "    Iy = torch.mul(T_RAW2XYZ[:, 1:2, 0, 0], imWB[:, 0:1, :, :]) + torch.mul(T_RAW2XYZ[:, 4:5, 0, 0], imWB[:, 1:2, :, :]) + torch.mul(T_RAW2XYZ[:, 7:8, 0, 0], imWB[:, 2:3, :, :])\n",
        "    Iz = torch.mul(T_RAW2XYZ[:, 2:3, 0, 0], imWB[:, 0:1, :, :]) + torch.mul(T_RAW2XYZ[:, 5:6, 0, 0], imWB[:, 1:2, :, :]) + torch.mul(T_RAW2XYZ[:, 8:9, 0, 0], imWB[:, 2:3, :, :])\n",
        "    \n",
        "    Ixyz = torch.cat((Ix,Iy,Iz), 1)\n",
        "    Txyzrgb = torch.Tensor(np.float32([[3.2406, -1.5372, -0.4986], \n",
        "                                       [-0.9689, 1.8758, 0.0415], \n",
        "                                       [0.0557, -0.2040, 1.057]])).double()\n",
        "    \n",
        "    # R\n",
        "    R = torch.mul(Txyzrgb[0], Ixyz[:,0:1,:,:]) + torch.mul(Txyzrgb[3], Ixyz[:,1:2,:,:]) + torch.mul(Txyzrgb[6], Ixyz[:,2:3,:,:])\n",
        "    # G\n",
        "    G = torch.mul(Txyzrgb[1], Ixyz[:,0:1,:,:]) + torch.mul(Txyzrgb[4], Ixyz[:,1:2,:,:]) + torch.mul(Txyzrgb[7], Ixyz[:,2:3,:,:])\n",
        "    # B\n",
        "    B = torch.mul(Txyzrgb[2], Ixyz[:,0:1,:,:]) + torch.mul(Txyzrgb[5], Ixyz[:,1:2,:,:]) + torch.mul(Txyzrgb[8], Ixyz[:,2:3,:,:])\n",
        "\n",
        "    sRGBim = torch.cat((R,G,B),1)\n",
        "    sRGBim = nn.ReLU()(sRGBim)\n",
        "\n",
        "    return sRGBim "
      ],
      "execution_count": 19,
      "outputs": []
    },
    {
      "cell_type": "markdown",
      "metadata": {
        "id": "QU8kIRzyA1Pg"
      },
      "source": [
        "### Main Function\n",
        "\n",
        "Python Code for mainBioFaces.m"
      ]
    },
    {
      "cell_type": "markdown",
      "metadata": {
        "id": "YQa9oNf1NuTc"
      },
      "source": [
        "#### View data sample"
      ]
    },
    {
      "cell_type": "code",
      "metadata": {
        "colab": {
          "base_uri": "https://localhost:8080/",
          "height": 303
        },
        "id": "FCgel86dN993",
        "outputId": "433b0d55-d828-44dc-e043-2d58c61ff9d8"
      },
      "source": [
        "img = Image.open('/content/gdrive/MyDrive/Colab Notebooks/VMG/celebA_data/training_data/000190.jpg')\n",
        "print(np.asarray(img, dtype=np.uint8).shape)\n",
        "plt.imshow(img)"
      ],
      "execution_count": 20,
      "outputs": [
        {
          "output_type": "stream",
          "text": [
            "(218, 178, 3)\n"
          ],
          "name": "stdout"
        },
        {
          "output_type": "execute_result",
          "data": {
            "text/plain": [
              "<matplotlib.image.AxesImage at 0x7fb4a9d4bd90>"
            ]
          },
          "metadata": {
            "tags": []
          },
          "execution_count": 20
        },
        {
          "output_type": "display_data",
          "data": {
            "image/png": "[encoded data removed]",
            "text/plain": [
              "<Figure size 432x288 with 1 Axes>"
            ]
          },
          "metadata": {
            "tags": [],
            "needs_background": "light"
          }
        }
      ]
    },
    {
      "cell_type": "markdown",
      "metadata": {
        "id": "0v5pyC8RmO2S"
      },
      "source": [
        "#### Load training data"
      ]
    },
    {
      "cell_type": "code",
      "metadata": {
        "colab": {
          "base_uri": "https://localhost:8080/"
        },
        "id": "PjKfY8DhiBga",
        "outputId": "f40840f0-735f-4cb6-de42-9172b2b0a59f"
      },
      "source": [
        "# Spatial size of training images, images are resized to this size.\n",
        "image_size = 64\n",
        "# batch size\n",
        "batch_size = 64\n",
        "\n",
        "transform=transforms.Compose([\n",
        "                              transforms.Resize(image_size),\n",
        "                              transforms.CenterCrop(image_size),\n",
        "                              transforms.ToTensor(),\n",
        "                              transforms.Normalize(mean=[0.5, 0.5, 0.5],\n",
        "                                                   std=[0.5, 0.5, 0.5])\n",
        "                              ])\n",
        "\n",
        "\n",
        "# Root directory for the dataset\n",
        "data_root = '/content/gdrive/MyDrive/Colab Notebooks/VMG/celebA_data/temp'\n",
        "\n",
        "train_dataset = ImageFolder(data_root, transform)\n",
        "\n",
        "train_loader = DataLoader(dataset=train_dataset, batch_size=batch_size, shuffle=True, num_workers=8, drop_last=True)\n",
        "print('Training samples: ', len(train_loader.dataset)) #Restricted size to 117 samples for making the code functional. It can be increased as desired."
      ],
      "execution_count": 21,
      "outputs": [
        {
          "output_type": "stream",
          "text": [
            "Training samples:  117\n"
          ],
          "name": "stdout"
        },
        {
          "output_type": "stream",
          "text": [
            "/usr/local/lib/python3.7/dist-packages/torch/utils/data/dataloader.py:477: UserWarning: This DataLoader will create 8 worker processes in total. Our suggested max number of worker in current system is 2, which is smaller than what this DataLoader is going to create. Please be aware that excessive worker creation might get DataLoader running slow or even freeze, lower the worker number to avoid potential slowness/freeze if necessary.\n",
            "  cpuset_checked))\n"
          ],
          "name": "stderr"
        }
      ]
    },
    {
      "cell_type": "markdown",
      "metadata": {
        "id": "4HShSFj2cifw"
      },
      "source": [
        "#### Start Training"
      ]
    },
    {
      "cell_type": "code",
      "metadata": {
        "colab": {
          "base_uri": "https://localhost:8080/"
        },
        "id": "64KB6nkCN9vb",
        "outputId": "e7c9c5de-131f-409c-bbe0-e27abf46fab6"
      },
      "source": [
        "total_batch = len(train_loader.dataset)//batch_size\n",
        "max_epoch = 1\n",
        "\n",
        "opt = torch.optim.Adam(CNN_Net(10).parameters(), lr=3e-4)\n",
        "device = torch.device(\"cuda\" if torch.cuda.is_available() else \"cpu\")\n",
        "\n",
        "for epoch in range(max_epoch):\n",
        "    print(\"Epoch: \", epoch)\n",
        "    for i, (image, labels) in enumerate(train_loader):\n",
        "        # CNN paramters\n",
        "        nfilters = np.array([32, 64, 128, 256, 512])\n",
        "        nclass = 4 # 4 decoders\n",
        "        #---------------------------- CNN -----------------------------------------\n",
        "        print('-'*10 + ' Process: CNN ' + '-'*10)\n",
        "        [lightingparameters,b,fmel,fblood,predictedShading,specmask] = CNN(image, \n",
        "                                                                        nfilters, \n",
        "                                                                        nclass, \n",
        "                                                                        LightVectorSize, \n",
        "                                                                        bSize)\n",
        "        #------------------------  Scale Parameters -----------------------------\n",
        "        print('-'*10 + ' Process: Scale Parameters ' + '-'*10)\n",
        "        [weightA,weightD,CCT,Fweights,b,BGrid,fmel,fblood,predictedShading,specmask] = scalingNet(lightingparameters, \n",
        "                                                                                          b, \n",
        "                                                                                          fmel, \n",
        "                                                                                          fblood, \n",
        "                                                                                          predictedShading, \n",
        "                                                                                          specmask, \n",
        "                                                                                          bSize)\n",
        "        print('Done...')\n",
        "        #------------------------ Illumination Model ----------------------------\n",
        "        print('-'*10 + ' Process: Illumination Model ' + '-'*10)\n",
        "        # create the illumination model from CIE standard illuminants: A,D,F\n",
        "        e = illuminationModel(weightA, weightD, Fweights, CCT, illumA, illumDNorm, illumFNorm)\n",
        "        print('Done...')\n",
        "        #------------------------ Camera Model ----------------------------------\n",
        "        print('-'*10 + ' Process: Camera Model ' + '-'*10)\n",
        "        [Sr,Sg,Sb] = cameraModel(mu, PC, b, wavelength)\n",
        "        print('Done...')\n",
        "        #------------------------ light colour ----------------------------------\n",
        "        print('-'*10 + ' Process: Light Colour ' + '-'*10)\n",
        "        lightcolour = computelightcolour(e, Sr, Sg, Sb)\n",
        "        print('Done...')\n",
        "        #------------------------ Specularities ---------------------------------\n",
        "        print('-'*10 + ' Process: Specularities ' + '-'*10)\n",
        "        Specularities = computeSpecularities(specmask, lightcolour)\n",
        "        print('Done...')\n",
        "        #---------------- Biophysical to spectral reflectance -------------------\n",
        "        print('-'*10 + ' Process: Biophysical to spectral reflectance ' + '-'*10)\n",
        "        R_total = BiotoSpectralRef(fmel,fblood,Newskincolour);\n",
        "        print('Done...')\n",
        "        #--------------------------- Image Formation ----------------------------\n",
        "        print('-'*10 + ' Process: Image Formation ' + '-'*10)\n",
        "        [rawAppearance, diffuseAlbedo] = ImageFormation(R_total, Sr,Sg,Sb,e,Specularities,predictedShading)\n",
        "        print('Done...')\n",
        "        #--------------------------- White Balance ------------------------------\n",
        "        print('-'*10 + ' Process: White Balance ' + '-'*10)\n",
        "        ImwhiteBalanced = WhiteBalance(rawAppearance,lightcolour)\n",
        "        print('Done...')\n",
        "        #------------------------ findT ------------------------------\n",
        "        print('-'*10 + ' Process: findT ' + '-'*10)\n",
        "        T_RAW2XYZ = findT(Tmatrix,BGrid)\n",
        "        print('Done...')\n",
        "#         #------------------------ from raw To sRGB ------------------------------\n",
        "#         print('-'*10 + ' Process: from raw To sRGB ' + '-'*10)\n",
        "#         sRGBim = fromRawTosRGB(ImwhiteBalanced,T_RAW2XYZ)\n",
        "#         print('Done...')\n",
        "\n",
        "#         scaleRGB = torch.mul(sRGBim, torch.float32(255))  \n",
        "#         #scaleRGB.name ='scaleRGB';\n",
        "\n",
        "#         # %scaleRGB = sRGBim;  scaleRGB.name ='scaleRGB';\n",
        "#         Y1 = np.ones(muim.shape, dtype = np.float32)\n",
        "#         Y1 = np.multiply(Y1, muim)\n",
        "#         rgbim = ((scaleRGB) - Y1)\n",
        "\n",
        "#         X1 = np.ones(size.shape,dtype = np.float32)\n",
        "#         rgbim = np.multiply(rgbim, X1)\n",
        "#         #rgbim.name = 'rgbim';\n",
        "\n",
        "#         # Compute scale of the shading\n",
        "#         scale = np.divide(np.sum(np.sum(np.multiply(np.multiply(actualshading, predictedShading), actualmasks), 0), 1),\n",
        "#                         np.sum(np.sum(np.multiply(np.square(predictedShading),actualmasks), 0), 1))\n",
        "\n",
        "#         predictedShading = np.multiply(predictedShading, scale)\n",
        "#         alpha = np.multiply((actualshading - predictedShading), actualmasks)\n",
        "\n",
        "#         #------------------------- LOSSES ---------------------------------------\n",
        "#         # CNN weights\n",
        "#         blossweight = 1e-4 \n",
        "#         appweight = 1e-3\n",
        "#         Shadingweight = 1e-5 \n",
        "#         sparseweight = 1e-5 \n",
        "\n",
        "#         # Camera parameter loss\n",
        "#         priorB = np.sum(np.square(b[:]))  \n",
        "#         #priorB.name ='priorB';\n",
        "#         priorloss = np.multiply(priorB[:], blossweight) \n",
        "#         ZY = np.ones(priorloss.shape)\n",
        "#         priorloss = np.multiply(priorloss, ZY)\n",
        "#         #priorloss.name ='priorloss';\n",
        "#         #----------------------\n",
        "#         # L2: appearance loss\n",
        "#         delta = np.multiply((images - rgbim), actualmasks)\n",
        "#         appearanceloss = np.multiply(np.divide(np.sum(np.square(delta[:])), (224 * 224)), appweight)\n",
        "#         Y = np.ones(appearanceloss.shape)\n",
        "#         appearanceloss = np.multiply(appearanceloss, Y)\n",
        "#         # appearanceloss.name ='appearanceloss';\n",
        "#         #--------------------------\n",
        "#         shadingloss = np.multiply(np.sum(np.square(alpha[:])), Shadingweight)\n",
        "#         ff = np.ones(shadingloss.shape)\n",
        "#         shadingloss = np.multiply(shadingloss, ff)\n",
        "#         # shadingloss.name = 'shadingloss';\n",
        "#         #----------------------\n",
        "#         # L1 sparsity loss:\n",
        "#         sparsityloss = np.multiply(np.sum(Specularities[:]), sparseweight)\n",
        "#         J = np.ones(sparsityloss.shape)\n",
        "#         sparsityloss = np.multiply(sparsityloss, J)\n",
        "#         # sparsityloss.name = 'sparsityloss';\n",
        "\n",
        "#         # Final Loss:\n",
        "#         loss = appearanceloss + priorloss + sparsityloss + shadingloss\n",
        "#         # loss.name= 'loss';\n",
        "#         # loss.sequentialNames();\n",
        "\n",
        "#         # Backprob + Optimize\n",
        "#         d_loss = torch.tensor(0.5)\n",
        "#         opt.zero_grad()\n",
        "#         d_loss.backward()\n",
        "#         opt.step()\n",
        "# #         if(i+1)%log_step == 0:\n",
        "# #             print(\"Epoch [%d/%d], Step[%d/%d], d_loss: %.4f, g_loss: %.4f, D(x): %.2f, D(G(z)): %.2f\"%(\n",
        "# #             epoch, max_epoch, i+1, total_batch, d_loss.data[0], g_loss.data[0], real_score.data.mean(), fake_score.data.mean()))\n",
        "        \n",
        "# #         if(i+1)%sample_step == 0:\n",
        "# #             fake_images = G(fixed_z)\n",
        "# #             torchvision.utils.save_image(denorm(fake_images.data), os.path.join(SAMPLE_PATH, 'fake_samples-%d-%d.png')%(\n",
        "# #             epoch+1, i+1), nrow=8)\n",
        "            \n",
        "# # torch.save(G.state_dict(), 'generator.pkl')\n",
        "# # torch.save(D.state_dict(), 'discriminator.pkl')"
      ],
      "execution_count": 22,
      "outputs": [
        {
          "output_type": "stream",
          "text": [
            "Epoch:  0\n"
          ],
          "name": "stdout"
        },
        {
          "output_type": "stream",
          "text": [
            "/usr/local/lib/python3.7/dist-packages/torch/utils/data/dataloader.py:477: UserWarning: This DataLoader will create 8 worker processes in total. Our suggested max number of worker in current system is 2, which is smaller than what this DataLoader is going to create. Please be aware that excessive worker creation might get DataLoader running slow or even freeze, lower the worker number to avoid potential slowness/freeze if necessary.\n",
            "  cpuset_checked))\n"
          ],
          "name": "stderr"
        },
        {
          "output_type": "stream",
          "text": [
            "---------- Process: CNN ----------\n",
            "Process: fcn_multipleDecoders ...\n",
            "Done ...\n",
            "Process: CNN_Net ...\n",
            "Done ...\n",
            "Process: Getting parameters and predicted maps ...\n",
            "Done ...\n",
            "---------- Process: Scale Parameters ----------\n",
            "Done...\n",
            "---------- Process: Illumination Model ----------\n",
            "Done...\n",
            "---------- Process: Camera Model ----------\n",
            "Done...\n",
            "---------- Process: Light Colour ----------\n",
            "Done...\n",
            "---------- Process: Specularities ----------\n",
            "Done...\n",
            "---------- Process: Biophysical to spectral reflectance ----------\n",
            "Done...\n",
            "---------- Process: Image Formation ----------\n",
            "Done...\n",
            "---------- Process: White Balance ----------\n",
            "Done...\n",
            "---------- Process: findT ----------\n",
            "Done...\n"
          ],
          "name": "stdout"
        }
      ]
    }
  ]
}